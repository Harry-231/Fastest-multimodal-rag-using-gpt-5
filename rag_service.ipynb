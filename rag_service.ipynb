{
 "cells": [
  {
   "cell_type": "markdown",
   "id": "1b653f10",
   "metadata": {},
   "source": [
    "# MODUALR RAG WITH QDRANT , GPT-5 AND PyMuPDF , LLAMAINDEX"
   ]
  },
  {
   "cell_type": "markdown",
   "id": "184eb431",
   "metadata": {},
   "source": [
    "## Parsing the pdf "
   ]
  },
  {
   "cell_type": "code",
   "execution_count": 159,
   "id": "ef9862e7",
   "metadata": {},
   "outputs": [],
   "source": [
    "import pymupdf  # PyMuPDF\n",
    "import pytesseract\n",
    "from PIL import Image\n",
    "import io\n",
    "import os\n",
    "from pathlib import Path\n",
    "from typing import List, Dict, Any\n",
    "from dataclasses import dataclass\n",
    "from datetime import datetime\n",
    "\n",
    "@dataclass\n",
    "class ExtractedContent:\n",
    "    \"\"\"Container for extracted PDF content\"\"\"\n",
    "    texts: List[Dict[str, Any]]\n",
    "    tables: List[Dict[str, Any]]\n",
    "    images: List[Dict[str, Any]]\n",
    "\n",
    "class PDFParser:\n",
    "    \"\"\"Simple PDF parser for extracting text, tables, and images\"\"\"\n",
    "    \n",
    "    def __init__(self, output_dir: str = \"extracted\", save_as_markdown: bool = True, use_ocr: bool = False):\n",
    "        \"\"\"\n",
    "        Initialize PDF Parser\n",
    "        \n",
    "        Args:\n",
    "            output_dir: Directory to save extracted content\n",
    "            save_as_markdown: Whether to save text content as markdown\n",
    "            use_ocr: Whether to use OCR for text extraction\n",
    "        \"\"\"\n",
    "        self.output_dir = output_dir\n",
    "        self.save_as_markdown = save_as_markdown\n",
    "        self.use_ocr = use_ocr\n",
    "        \n",
    "        # Create output directories\n",
    "        self.text_dir = os.path.join(output_dir, \"texts\")\n",
    "        self.table_dir = os.path.join(output_dir, \"tables\")\n",
    "        self.image_dir = os.path.join(output_dir, \"images\")\n",
    "        \n",
    "        os.makedirs(self.text_dir, exist_ok=True)\n",
    "        os.makedirs(self.table_dir, exist_ok=True)\n",
    "        os.makedirs(self.image_dir, exist_ok=True)\n",
    "    \n",
    "    def parse_pdf(self, pdf_path: str) -> ExtractedContent:\n",
    "        \"\"\"Parse a single PDF file\"\"\"\n",
    "        results = self.parse_pdfs([pdf_path])\n",
    "        return results.get(pdf_path, ExtractedContent([], [], []))\n",
    "    \n",
    "    def parse_pdfs(self, pdf_paths: List[str]) -> Dict[str, ExtractedContent]:\n",
    "        \"\"\"Parse multiple PDF files\"\"\"\n",
    "        results = {}\n",
    "        \n",
    "        for pdf_path in pdf_paths:\n",
    "            print(f\"Processing: {pdf_path}\")\n",
    "            try:\n",
    "                content = self._extract_content(pdf_path)\n",
    "                results[pdf_path] = content\n",
    "                self._save_to_files(pdf_path, content)\n",
    "            except Exception as e:\n",
    "                print(f\"Error processing {pdf_path}: {e}\")\n",
    "                results[pdf_path] = ExtractedContent([], [], [])\n",
    "        \n",
    "        return results\n",
    "    \n",
    "    def _extract_content(self, pdf_path: str) -> ExtractedContent:\n",
    "        \"\"\"Extract content from a PDF file\"\"\"\n",
    "        texts = []\n",
    "        tables = []\n",
    "        images = []\n",
    "        \n",
    "        doc = pymupdf.open(pdf_path)\n",
    "        \n",
    "        for page_num, page in enumerate(doc, 1):\n",
    "            # Extract text\n",
    "            if self.use_ocr:\n",
    "                text_content = self._extract_text_with_ocr(page)\n",
    "            else:\n",
    "                text_content = page.get_text()\n",
    "            \n",
    "            if text_content.strip():\n",
    "                texts.append({\n",
    "                    'page': page_num,\n",
    "                    'content': text_content,\n",
    "                    'metadata': {\n",
    "                        'source': pdf_path,\n",
    "                        'extraction_method': 'ocr' if self.use_ocr else 'native'\n",
    "                    }\n",
    "                })\n",
    "            \n",
    "            # Extract tables\n",
    "            try:\n",
    "                table_finder = page.find_tables()\n",
    "                for table_idx, table in enumerate(table_finder.tables):\n",
    "                    table_data = table.extract()\n",
    "                    if table_data:\n",
    "                        tables.append({\n",
    "                            'page': page_num,\n",
    "                            'table_data': table_data,\n",
    "                            'metadata': {\n",
    "                                'source': pdf_path,\n",
    "                                'table_index': table_idx\n",
    "                            }\n",
    "                        })\n",
    "            except Exception as e:\n",
    "                print(f\"Could not extract tables from page {page_num}: {e}\")\n",
    "            \n",
    "            # Extract images\n",
    "            image_list = page.get_images(full=True)\n",
    "            for img_index, img in enumerate(image_list):\n",
    "                try:\n",
    "                    xref = img[0]\n",
    "                    base_image = doc.extract_image(xref)\n",
    "                    img_bytes = base_image[\"image\"]\n",
    "                    img_ext = base_image[\"ext\"]\n",
    "                    \n",
    "                    images.append({\n",
    "                        'page': page_num,\n",
    "                        'image_bytes': img_bytes,\n",
    "                        'metadata': {\n",
    "                            'source': pdf_path,\n",
    "                            'index': img_index,\n",
    "                            'format': img_ext,\n",
    "                            'size_bytes': len(img_bytes)\n",
    "                        }\n",
    "                    })\n",
    "                except Exception as e:\n",
    "                    print(f\"Could not extract image {img_index} from page {page_num}: {e}\")\n",
    "        \n",
    "        doc.close()\n",
    "        return ExtractedContent(texts=texts, tables=tables, images=images)\n",
    "    \n",
    "    def _extract_text_with_ocr(self, page):\n",
    "        \"\"\"Extract text using OCR\"\"\"\n",
    "        try:\n",
    "            # Render page to image\n",
    "            mat = pymupdf.Matrix(2, 2)  # 2x zoom for better OCR\n",
    "            pix = page.get_pixmap(matrix=mat)\n",
    "            img_data = pix.tobytes(\"png\")\n",
    "            \n",
    "            # Perform OCR\n",
    "            image = Image.open(io.BytesIO(img_data))\n",
    "            ocr_text = pytesseract.image_to_string(image, lang='eng')\n",
    "            return ocr_text\n",
    "        except Exception as e:\n",
    "            print(f\"OCR failed, falling back to native extraction: {e}\")\n",
    "            return page.get_text()\n",
    "    \n",
    "    def _save_to_files(self, pdf_path: str, content: ExtractedContent):\n",
    "        \"\"\"Save extracted content to files\"\"\"\n",
    "        pdf_name = Path(pdf_path).stem\n",
    "        \n",
    "        # Save texts\n",
    "        if content.texts:\n",
    "            if self.save_as_markdown:\n",
    "                text_file = os.path.join(self.text_dir, \"texts.md\")\n",
    "                mode = 'a' if os.path.exists(text_file) else 'w'\n",
    "                with open(text_file, mode, encoding='utf-8') as f:\n",
    "                    f.write(f\"# Extracted Text from {pdf_name}\\n\\n\")\n",
    "                    for text_data in content.texts:\n",
    "                        f.write(f\"## Page {text_data['page']}\\n\\n\")\n",
    "                        f.write(text_data['content'])\n",
    "                        f.write(\"\\n\\n---\\n\\n\")\n",
    "            else:\n",
    "                text_file = os.path.join(self.text_dir, \"texts.txt\")\n",
    "                mode = 'a' if os.path.exists(text_file) else 'w'\n",
    "                with open(text_file, mode, encoding='utf-8') as f:\n",
    "                    for text_data in content.texts:\n",
    "                        f.write(f\"=== {pdf_name} - Page {text_data['page']} ===\\n\")\n",
    "                        f.write(text_data['content'])\n",
    "                        f.write(\"\\n\\n\")\n",
    "        \n",
    "        # Save tables\n",
    "        if content.tables:\n",
    "            existing_tables = [f for f in os.listdir(self.table_dir) if f.startswith('table_') and f.endswith('.md')]\n",
    "            next_num = len(existing_tables) + 1\n",
    "            \n",
    "            for table_data in content.tables:\n",
    "                table_file = os.path.join(self.table_dir, f\"table_{next_num}.md\")\n",
    "                with open(table_file, 'w', encoding='utf-8') as f:\n",
    "                    f.write(f\"# Table {next_num}\\n\")\n",
    "                    f.write(f\"**Source:** {pdf_name}\\n\")\n",
    "                    f.write(f\"**Page:** {table_data['page']}\\n\\n\")\n",
    "                    f.write(self._table_to_markdown(table_data['table_data']))\n",
    "                next_num += 1\n",
    "        \n",
    "        # Save images\n",
    "        if content.images:\n",
    "            for img_data in content.images:\n",
    "                img_filename = f\"images_p{img_data['page']}_img{img_data['metadata']['index']}.{img_data['metadata']['format']}\"\n",
    "                img_path = os.path.join(self.image_dir, img_filename)\n",
    "                with open(img_path, 'wb') as f:\n",
    "                    f.write(img_data['image_bytes'])\n",
    "    \n",
    "    def _table_to_markdown(self, table_data: List[List[str]]) -> str:\n",
    "        \"\"\"Convert table data to markdown format\"\"\"\n",
    "        if not table_data or not table_data[0]:\n",
    "            return \"\"\n",
    "        \n",
    "        markdown = []\n",
    "        \n",
    "        # Header\n",
    "        markdown.append(\"| \" + \" | \".join(str(cell) for cell in table_data[0]) + \" |\")\n",
    "        markdown.append(\"|\" + \"|\".join([\"---\"] * len(table_data[0])) + \"|\")\n",
    "        \n",
    "        # Rows\n",
    "        for row in table_data[1:]:\n",
    "            markdown.append(\"| \" + \" | \".join(str(cell) for cell in row) + \" |\")\n",
    "        \n",
    "        return \"\\n\".join(markdown)"
   ]
  },
  {
   "cell_type": "code",
   "execution_count": 160,
   "id": "df8d0d91",
   "metadata": {},
   "outputs": [
    {
     "name": "stdout",
     "output_type": "stream",
     "text": [
      "Processing: ./Documents/1706.03762v7.pdf\n",
      "\n",
      "PDF: ./Documents/1706.03762v7.pdf\n",
      "  Text pages: 15\n",
      "  Tables found: 5\n",
      "  Images extracted: 3\n"
     ]
    }
   ],
   "source": [
    "parser = PDFParser(\n",
    "        output_dir=\"extracted\",\n",
    "        save_as_markdown=True,\n",
    "        use_ocr=False  # Set to True if you need OCR\n",
    "    )\n",
    "    \n",
    "    # Parse PDFs\n",
    "pdf_files = [\"./Documents/1706.03762v7.pdf\"]\n",
    "results = parser.parse_pdfs(pdf_files)\n",
    "    \n",
    "    # Access results\n",
    "for pdf_path, content in results.items():\n",
    "        print(f\"\\nPDF: {pdf_path}\")\n",
    "        print(f\"  Text pages: {len(content.texts)}\")\n",
    "        print(f\"  Tables found: {len(content.tables)}\")\n",
    "        print(f\"  Images extracted: {len(content.images)}\")"
   ]
  },
  {
   "cell_type": "markdown",
   "id": "05f32424",
   "metadata": {},
   "source": [
    "## Getting the data sorted "
   ]
  },
  {
   "cell_type": "code",
   "execution_count": 161,
   "id": "0f2be828",
   "metadata": {},
   "outputs": [],
   "source": [
    "## Image documents \n",
    "from llama_index.core.multi_modal_llms.generic_utils import load_image_urls\n",
    "from llama_index.core import SimpleDirectoryReader\n",
    "\n",
    "image_documents = SimpleDirectoryReader(\"./extracted/images\").load_data()"
   ]
  },
  {
   "cell_type": "code",
   "execution_count": 162,
   "id": "64b5ecd4",
   "metadata": {},
   "outputs": [],
   "source": [
    "## Sorting the text into chunks \n",
    "text_documents = SimpleDirectoryReader(\"./extracted/texts\").load_data()"
   ]
  },
  {
   "cell_type": "code",
   "execution_count": 65,
   "id": "219f39cb",
   "metadata": {},
   "outputs": [],
   "source": [
    "## Table documents \n",
    "table_documents = SimpleDirectoryReader(\"./extracted/tables\").load_data()"
   ]
  },
  {
   "cell_type": "markdown",
   "id": "c996115b",
   "metadata": {},
   "source": [
    "## Setting up the Qdrant client "
   ]
  },
  {
   "cell_type": "code",
   "execution_count": null,
   "id": "c496c749",
   "metadata": {},
   "outputs": [],
   "source": [
    "import qdrant_client\n",
    "client = qdrant_client.QdrantClient(path = \"./tmp/llama_multimodal\")"
   ]
  },
  {
   "cell_type": "code",
   "execution_count": 132,
   "id": "c21cd894",
   "metadata": {},
   "outputs": [],
   "source": [
    "## Crateing the text, table and image Store \n",
    "from llama_index.vector_stores.qdrant import QdrantVectorStore\n",
    "\n",
    "text_store = QdrantVectorStore(\n",
    "    client  = client,\n",
    "    collection_name = \"text_collection\"\n",
    ")\n",
    "image_store = QdrantVectorStore(\n",
    "    client = client,\n",
    "    collection_name = \"image_collection\"\n",
    ")\n",
    "table_store = QdrantVectorStore(\n",
    "    client = client , \n",
    "    collection_name = \"table_collection\"\n",
    ")"
   ]
  },
  {
   "cell_type": "markdown",
   "id": "e084e17d",
   "metadata": {},
   "source": [
    "## Setting the Vector Store for retrieval "
   ]
  },
  {
   "cell_type": "code",
   "execution_count": null,
   "id": "00dfdb30",
   "metadata": {},
   "outputs": [
    {
     "name": "stderr",
     "output_type": "stream",
     "text": [
      "INFO:httpx:HTTP Request: POST https://api.openai.com/v1/embeddings \"HTTP/1.1 200 OK\"\n"
     ]
    }
   ],
   "source": [
    "from llama_index.core import StorageContext\n",
    "from llama_index.core.indices import MultiModalVectorStoreIndex\n",
    "\n",
    "# Create storage context with all stores\n",
    "storage_context = StorageContext.from_defaults(\n",
    "    vector_store=text_store,\n",
    "    image_store=image_store,\n",
    "    \n",
    ")\n",
    "\n",
    "# Combine all documents for indexing\n",
    "all_documents = text_documents + image_documents + table_documents\n",
    "\n",
    "# Create the multimodal index with all documents\n",
    "index = MultiModalVectorStoreIndex.from_documents(\n",
    "    documents=all_documents,\n",
    "    storage_context=storage_context,\n",
    ")"
   ]
  },
  {
   "cell_type": "code",
   "execution_count": null,
   "id": "97bc7d89",
   "metadata": {},
   "outputs": [
    {
     "name": "stderr",
     "output_type": "stream",
     "text": [
      "C:\\Users\\KARAN\\AppData\\Local\\Temp\\ipykernel_13528\\3038661835.py:3: DeprecationWarning: Call to deprecated class OpenAIMultiModal. (The package has been deprecated and will no longer be maintained. Please use llama-index-llms-openai (preferably the Responses API) instead. See Multi Modal LLMs documentation for a complete guide on migration: https://docs.llamaindex.ai/en/stable/understanding/using_llms/using_llms/#multi-modal-llms) -- Deprecated since version 0.5.2.\n",
      "  openai_mm_llm = OpenAIMultiModal(model=\"gpt-4o\",api_key=os.getenv(\"OPENAI_API_KEY\"), max_new_tokens=300)\n"
     ]
    }
   ],
   "source": [
    "from llama_index.multi_modal_llms.openai import OpenAIMultiModal\n",
    "openai_mm_llm = OpenAIMultiModal(model=\"gpt-5\",api_key=os.getenv(\"OPENAI_API_KEY\"), max_new_tokens=300)"
   ]
  },
  {
   "cell_type": "markdown",
   "id": "7efde35a",
   "metadata": {},
   "source": [
    "## Generation"
   ]
  },
  {
   "cell_type": "code",
   "execution_count": 147,
   "id": "fdfa7e24",
   "metadata": {},
   "outputs": [
    {
     "name": "stderr",
     "output_type": "stream",
     "text": [
      "INFO:httpx:HTTP Request: POST https://api.openai.com/v1/embeddings \"HTTP/1.1 200 OK\"\n",
      "INFO:httpx:HTTP Request: POST https://api.openai.com/v1/chat/completions \"HTTP/1.1 200 OK\"\n"
     ]
    }
   ],
   "source": [
    "from llama_index.core import PromptTemplate\n",
    "from llama_index.core.query_engine import SimpleMultiModalQueryEngine\n",
    "\n",
    "qa_tmpl_str = (\n",
    "    \"Context information is below.\\n\"\n",
    "    \"---------------------\\n\"\n",
    "    \"{context_str}\\n\"\n",
    "    \"---------------------\\n\"\n",
    "    \"Given the context information and not prior knowledge, \"\n",
    "    \"answer the query.\\n\"\n",
    "    \"Query: {query_str}\\n\"\n",
    "    \"Answer: \"\n",
    ")\n",
    "qa_tmpl = PromptTemplate(qa_tmpl_str)\n",
    "\n",
    "query_engine = index.as_query_engine(\n",
    "    llm=openai_mm_llm, text_qa_template=qa_tmpl\n",
    ")\n",
    "\n",
    "query_str = \"What are the figures provided in the paper and what are they about ?\"\n",
    "response = query_engine.query(query_str)"
   ]
  },
  {
   "cell_type": "code",
   "execution_count": 148,
   "id": "40e2d086",
   "metadata": {},
   "outputs": [
    {
     "data": {
      "text/plain": [
       "Response(response='The figures provided in the paper are diagrams related to the Transformer model architecture:\\n\\n1. **First Figure**: This diagram illustrates the scaled dot-product attention mechanism. It shows the process of calculating attention scores using queries (Q), keys (K), and values (V). The steps include matrix multiplication, scaling, optional masking, applying the softmax function, and a final matrix multiplication.\\n\\n2. **Second Figure**: This diagram represents the overall architecture of the Transformer model. It includes the encoder and decoder stacks, each with multiple layers (denoted as Nx). The encoder consists of multi-head attention and feed-forward layers with add and norm operations. The decoder includes masked multi-head attention, multi-head attention, and feed-forward layers, also with add and norm operations. Positional encoding is added to the input and output embeddings.\\n\\nThese figures are essential for understanding how the Transformer processes input data and generates output, highlighting key components like attention mechanisms and layer structures.', source_nodes=[NodeWithScore(node=TextNode(id_='432c96eb-1056-4b2b-ba68-1e7697816d9b', embedding=None, metadata={'file_path': 'f:\\\\MachineLearning\\\\RAG\\\\Multimodal_Agentic_RAG\\\\extracted\\\\tables\\\\table_4.md', 'file_name': 'table_4.md', 'file_size': 5179, 'creation_date': '2025-08-19', 'last_modified_date': '2025-08-19'}, excluded_embed_metadata_keys=['file_name', 'file_type', 'file_size', 'creation_date', 'last_modified_date', 'last_accessed_date'], excluded_llm_metadata_keys=['file_name', 'file_type', 'file_size', 'creation_date', 'last_modified_date', 'last_accessed_date'], relationships={<NodeRelationship.SOURCE: '1'>: RelatedNodeInfo(node_id='d064225e-ddab-45c7-87b5-d16282c07a10', node_type='4', metadata={'file_path': 'f:\\\\MachineLearning\\\\RAG\\\\Multimodal_Agentic_RAG\\\\extracted\\\\tables\\\\table_4.md', 'file_name': 'table_4.md', 'file_size': 5179, 'creation_date': '2025-08-19', 'last_modified_date': '2025-08-19'}, hash='7778f23ab56ff29d4d58c23939ff286113652268b2177c86d20bbf5342d3dc4c'), <NodeRelationship.PREVIOUS: '2'>: RelatedNodeInfo(node_id='2d516bd5-46e4-465e-8da8-553f4a528450', node_type='1', metadata={'file_path': 'f:\\\\MachineLearning\\\\RAG\\\\Multimodal_Agentic_RAG\\\\extracted\\\\tables\\\\table_4.md', 'file_name': 'table_4.md', 'file_size': 5179, 'creation_date': '2025-08-19', 'last_modified_date': '2025-08-19'}, hash='a22e2e0493d41d018aac179d386b6b922036fcee7a654b4cfc1ce20e5315c058'), <NodeRelationship.NEXT: '3'>: RelatedNodeInfo(node_id='d89fc0e7-5214-4482-a939-b583fd2fedb1', node_type='1', metadata={}, hash='9bdc3d0b49d0473fc1df4f98b87ed39791085f88c5cb464f92fc8805d9fa00f0')}, metadata_template='{key}: {value}', metadata_separator='\\n', text='| None | None | <EOS> | None | <pad> | None |\\r\\n| None |  |  |  |  | None |  | None |  |  |  |  |  | None |  | None |  |  | app |  | None | None | None | None | None | None | None | None | None | None | None | None | None | None | None | None | None | None | None | None | None | None | None | None | None | None | None | None | None | None | None | None | None | None | None | None |\\r\\n|  | None |  | None |  | None |  | None |  | None |  | None |  | None |  | None |  | None |  |  | None |  | None |  | None |  | None |  | None |  | None |  | None |  | None |  |  |  | None |  |  |  |  |  |  | None |  |  | None |  |  | None |  |  |  |  |\\r\\n|  | None |  | None |  | None |  | None |  | None |  | None |  | None |  | None |  | None | on |  | None |  | None |  | None |  | None |  | None |  | None |  | None |  | None |  | None |  | None | None |  | None |  | None |  | None | None |  | None | None |  | None | None |  | None | None |\\r\\n| The | None | Law | None | will | None | never | None | be | None | perfect | None | , | None | but | None | its | None | applicati | should | None | be | None | just | None | - | None | this | None | is | None | what | None | we | None | are | None | missing | None | None | , | None | in | None | my | None | None | opinion | None | None | . | None | None | <EOS> | None | <pad> |\\r\\n|  | None |  | None |  | None |  | None |  | None |  | None |  | None |  | None |  | None |  |  | None |  | None |  | None |  | None |  | None |  | None |  | None |  | None |  | None |  | None | None |  | None |  | None |  | None | None |  | None | None |  | None | None |  | None |  |\\r\\n|  | None | None | None | None | None | None | None | None | None | None | None | None | None | None | None | None | None | None | None | None | None | None | None | None | None | None | None | None | None | None | None | None | None | None | None | None | None | None | None | None | None | None | None | None | None | None | None | None | None | None | None | None | None | None | None |\\r\\n| The | None | Law | None | will | None | never | None | be | None | perfect | None | , | None | but | None | its | None | plication | should | None | be | None | just | None | - | None | this | None | is | None | what | None | we | None | are | None | missing | None | None | , | None | in | None | my | None | None | opinion | None | None | . | None | None | <EOS> | None | <pad> |\\r\\n|  | None |  | None |  | None |  | None |  | None |  | None |  | None |  | None |  | None | ap |  | None |  | None |  | None |  | None |  | None |  | None |  | None |  | None |  | None |  | None | None |  | None |  | None |  | None | None |  | None | None |  | None | None |  | None |  |\\r\\n| ure\\r\\nl att\\r\\n6.', mimetype='text/plain', start_char_idx=1901, end_char_idx=4587, metadata_seperator='\\n', text_template='{metadata_str}\\n\\n{content}'), score=0.7463797147015766), NodeWithScore(node=TextNode(id_='6b5927b3-a89f-4209-9920-abc16ecb4c4a', embedding=None, metadata={'file_path': 'f:\\\\MachineLearning\\\\RAG\\\\Multimodal_Agentic_RAG\\\\extracted\\\\tables\\\\table_2.md', 'file_name': 'table_2.md', 'file_size': 792, 'creation_date': '2025-08-19', 'last_modified_date': '2025-08-19'}, excluded_embed_metadata_keys=['file_name', 'file_type', 'file_size', 'creation_date', 'last_modified_date', 'last_accessed_date'], excluded_llm_metadata_keys=['file_name', 'file_type', 'file_size', 'creation_date', 'last_modified_date', 'last_accessed_date'], relationships={<NodeRelationship.SOURCE: '1'>: RelatedNodeInfo(node_id='3084eb3c-5085-4667-b9b0-ed0a618cdd6c', node_type='4', metadata={'file_path': 'f:\\\\MachineLearning\\\\RAG\\\\Multimodal_Agentic_RAG\\\\extracted\\\\tables\\\\table_2.md', 'file_name': 'table_2.md', 'file_size': 792, 'creation_date': '2025-08-19', 'last_modified_date': '2025-08-19'}, hash='ae4a27ca76a7bd09c2c2367d868406fb3d67414232bbc4639ab15af88d01c566')}, metadata_template='{key}: {value}', metadata_separator='\\n', text='# Table 2\\r\\n**Source:** 1706.03762v7\\r\\n**Page:** 10\\r\\n**Table Index:** 0\\r\\n\\r\\n| Parser | Training | WSJ 23 F1 |\\r\\n|---|---|---|\\r\\n| Vinyals & Kaiser el al. (2014) [37]\\r\\nPetrov et al. (2006) [29]\\r\\nZhu et al. (2013) [40]\\r\\nDyer et al. (2016) [8] | WSJ only, discriminative\\r\\nWSJ only, discriminative\\r\\nWSJ only, discriminative\\r\\nWSJ only, discriminative | 88.3\\r\\n90.4\\r\\n90.4\\r\\n91.7 |\\r\\n| Transformer (4 layers) | WSJ only, discriminative | 91.3 |\\r\\n| Zhu et al. (2013) [40]\\r\\nHuang & Harper (2009) [14]\\r\\nMcClosky et al. (2006) [26]\\r\\nVinyals & Kaiser el al. (2014) [37] | semi-supervised\\r\\nsemi-supervised\\r\\nsemi-supervised\\r\\nsemi-supervised | 91.3\\r\\n91.3\\r\\n92.1\\r\\n92.1 |\\r\\n| Transformer (4 layers) | semi-supervised | 92.7 |\\r\\n| Luong et al. (2015) [23]\\r\\nDyer et al. (2016) [8] | multi-task\\r\\ngenerative | 93.0\\r\\n93.3 |', mimetype='text/plain', start_char_idx=0, end_char_idx=790, metadata_seperator='\\n', text_template='{metadata_str}\\n\\n{content}'), score=0.7447378817738546), NodeWithScore(node=ImageNode(id_='76052f6c-227a-4663-90ea-1c788f483eac', embedding=None, metadata={'file_path': 'f:\\\\MachineLearning\\\\RAG\\\\Multimodal_Agentic_RAG\\\\extracted\\\\images\\\\images_p4_img0.png', 'file_name': 'images_p4_img0.png', 'file_type': 'image/png', 'file_size': 19215, 'creation_date': '2025-08-19', 'last_modified_date': '2025-08-19'}, excluded_embed_metadata_keys=['file_name', 'file_type', 'file_size', 'creation_date', 'last_modified_date', 'last_accessed_date'], excluded_llm_metadata_keys=['file_name', 'file_type', 'file_size', 'creation_date', 'last_modified_date', 'last_accessed_date'], relationships={<NodeRelationship.SOURCE: '1'>: RelatedNodeInfo(node_id='54949307-1cc6-4a5f-abc2-a5b0609866f4', node_type='4', metadata={'file_path': 'f:\\\\MachineLearning\\\\RAG\\\\Multimodal_Agentic_RAG\\\\extracted\\\\images\\\\images_p4_img0.png', 'file_name': 'images_p4_img0.png', 'file_type': 'image/png', 'file_size': 19215, 'creation_date': '2025-08-19', 'last_modified_date': '2025-08-19'}, hash='63c8574e1eaf1b2b67178413c22eee74c259c48ddbe5877b7c455c0dca871fc8')}, metadata_template='{key}: {value}', metadata_separator='\\n', text='', mimetype='text/plain', start_char_idx=0, end_char_idx=0, metadata_seperator='\\n', text_template='{metadata_str}\\n\\n{content}', image=None, image_path='f:\\\\MachineLearning\\\\RAG\\\\Multimodal_Agentic_RAG\\\\extracted\\\\images\\\\images_p4_img0.png', image_url=None, image_mimetype='image/png', text_embedding=None), score=0.226969677132143), NodeWithScore(node=ImageNode(id_='89db02ae-531b-4fa7-9fd9-47b4ed421896', embedding=None, metadata={'file_path': 'f:\\\\MachineLearning\\\\RAG\\\\Multimodal_Agentic_RAG\\\\extracted\\\\images\\\\images_p3_img0.png', 'file_name': 'images_p3_img0.png', 'file_type': 'image/png', 'file_size': 121244, 'creation_date': '2025-08-19', 'last_modified_date': '2025-08-19'}, excluded_embed_metadata_keys=['file_name', 'file_type', 'file_size', 'creation_date', 'last_modified_date', 'last_accessed_date'], excluded_llm_metadata_keys=['file_name', 'file_type', 'file_size', 'creation_date', 'last_modified_date', 'last_accessed_date'], relationships={<NodeRelationship.SOURCE: '1'>: RelatedNodeInfo(node_id='99b954e2-0e8e-4c88-9db2-aebccb1b9983', node_type='4', metadata={'file_path': 'f:\\\\MachineLearning\\\\RAG\\\\Multimodal_Agentic_RAG\\\\extracted\\\\images\\\\images_p3_img0.png', 'file_name': 'images_p3_img0.png', 'file_type': 'image/png', 'file_size': 121244, 'creation_date': '2025-08-19', 'last_modified_date': '2025-08-19'}, hash='cc4087d498a7802fb1dea7f90b34a7ad2cff0207c3584cc8de6d5684fc7d5f2e')}, metadata_template='{key}: {value}', metadata_separator='\\n', text='', mimetype='text/plain', start_char_idx=0, end_char_idx=0, metadata_seperator='\\n', text_template='{metadata_str}\\n\\n{content}', image=None, image_path='f:\\\\MachineLearning\\\\RAG\\\\Multimodal_Agentic_RAG\\\\extracted\\\\images\\\\images_p3_img0.png', image_url=None, image_mimetype='image/png', text_embedding=None), score=0.2247094920781066)], metadata={'text_nodes': [NodeWithScore(node=TextNode(id_='432c96eb-1056-4b2b-ba68-1e7697816d9b', embedding=None, metadata={'file_path': 'f:\\\\MachineLearning\\\\RAG\\\\Multimodal_Agentic_RAG\\\\extracted\\\\tables\\\\table_4.md', 'file_name': 'table_4.md', 'file_size': 5179, 'creation_date': '2025-08-19', 'last_modified_date': '2025-08-19'}, excluded_embed_metadata_keys=['file_name', 'file_type', 'file_size', 'creation_date', 'last_modified_date', 'last_accessed_date'], excluded_llm_metadata_keys=['file_name', 'file_type', 'file_size', 'creation_date', 'last_modified_date', 'last_accessed_date'], relationships={<NodeRelationship.SOURCE: '1'>: RelatedNodeInfo(node_id='d064225e-ddab-45c7-87b5-d16282c07a10', node_type='4', metadata={'file_path': 'f:\\\\MachineLearning\\\\RAG\\\\Multimodal_Agentic_RAG\\\\extracted\\\\tables\\\\table_4.md', 'file_name': 'table_4.md', 'file_size': 5179, 'creation_date': '2025-08-19', 'last_modified_date': '2025-08-19'}, hash='7778f23ab56ff29d4d58c23939ff286113652268b2177c86d20bbf5342d3dc4c'), <NodeRelationship.PREVIOUS: '2'>: RelatedNodeInfo(node_id='2d516bd5-46e4-465e-8da8-553f4a528450', node_type='1', metadata={'file_path': 'f:\\\\MachineLearning\\\\RAG\\\\Multimodal_Agentic_RAG\\\\extracted\\\\tables\\\\table_4.md', 'file_name': 'table_4.md', 'file_size': 5179, 'creation_date': '2025-08-19', 'last_modified_date': '2025-08-19'}, hash='a22e2e0493d41d018aac179d386b6b922036fcee7a654b4cfc1ce20e5315c058'), <NodeRelationship.NEXT: '3'>: RelatedNodeInfo(node_id='d89fc0e7-5214-4482-a939-b583fd2fedb1', node_type='1', metadata={}, hash='9bdc3d0b49d0473fc1df4f98b87ed39791085f88c5cb464f92fc8805d9fa00f0')}, metadata_template='{key}: {value}', metadata_separator='\\n', text='| None | None | <EOS> | None | <pad> | None |\\r\\n| None |  |  |  |  | None |  | None |  |  |  |  |  | None |  | None |  |  | app |  | None | None | None | None | None | None | None | None | None | None | None | None | None | None | None | None | None | None | None | None | None | None | None | None | None | None | None | None | None | None | None | None | None | None | None | None |\\r\\n|  | None |  | None |  | None |  | None |  | None |  | None |  | None |  | None |  | None |  |  | None |  | None |  | None |  | None |  | None |  | None |  | None |  | None |  |  |  | None |  |  |  |  |  |  | None |  |  | None |  |  | None |  |  |  |  |\\r\\n|  | None |  | None |  | None |  | None |  | None |  | None |  | None |  | None |  | None | on |  | None |  | None |  | None |  | None |  | None |  | None |  | None |  | None |  | None |  | None | None |  | None |  | None |  | None | None |  | None | None |  | None | None |  | None | None |\\r\\n| The | None | Law | None | will | None | never | None | be | None | perfect | None | , | None | but | None | its | None | applicati | should | None | be | None | just | None | - | None | this | None | is | None | what | None | we | None | are | None | missing | None | None | , | None | in | None | my | None | None | opinion | None | None | . | None | None | <EOS> | None | <pad> |\\r\\n|  | None |  | None |  | None |  | None |  | None |  | None |  | None |  | None |  | None |  |  | None |  | None |  | None |  | None |  | None |  | None |  | None |  | None |  | None |  | None | None |  | None |  | None |  | None | None |  | None | None |  | None | None |  | None |  |\\r\\n|  | None | None | None | None | None | None | None | None | None | None | None | None | None | None | None | None | None | None | None | None | None | None | None | None | None | None | None | None | None | None | None | None | None | None | None | None | None | None | None | None | None | None | None | None | None | None | None | None | None | None | None | None | None | None | None |\\r\\n| The | None | Law | None | will | None | never | None | be | None | perfect | None | , | None | but | None | its | None | plication | should | None | be | None | just | None | - | None | this | None | is | None | what | None | we | None | are | None | missing | None | None | , | None | in | None | my | None | None | opinion | None | None | . | None | None | <EOS> | None | <pad> |\\r\\n|  | None |  | None |  | None |  | None |  | None |  | None |  | None |  | None |  | None | ap |  | None |  | None |  | None |  | None |  | None |  | None |  | None |  | None |  | None |  | None | None |  | None |  | None |  | None | None |  | None | None |  | None | None |  | None |  |\\r\\n| ure\\r\\nl att\\r\\n6.', mimetype='text/plain', start_char_idx=1901, end_char_idx=4587, metadata_seperator='\\n', text_template='{metadata_str}\\n\\n{content}'), score=0.7463797147015766), NodeWithScore(node=TextNode(id_='6b5927b3-a89f-4209-9920-abc16ecb4c4a', embedding=None, metadata={'file_path': 'f:\\\\MachineLearning\\\\RAG\\\\Multimodal_Agentic_RAG\\\\extracted\\\\tables\\\\table_2.md', 'file_name': 'table_2.md', 'file_size': 792, 'creation_date': '2025-08-19', 'last_modified_date': '2025-08-19'}, excluded_embed_metadata_keys=['file_name', 'file_type', 'file_size', 'creation_date', 'last_modified_date', 'last_accessed_date'], excluded_llm_metadata_keys=['file_name', 'file_type', 'file_size', 'creation_date', 'last_modified_date', 'last_accessed_date'], relationships={<NodeRelationship.SOURCE: '1'>: RelatedNodeInfo(node_id='3084eb3c-5085-4667-b9b0-ed0a618cdd6c', node_type='4', metadata={'file_path': 'f:\\\\MachineLearning\\\\RAG\\\\Multimodal_Agentic_RAG\\\\extracted\\\\tables\\\\table_2.md', 'file_name': 'table_2.md', 'file_size': 792, 'creation_date': '2025-08-19', 'last_modified_date': '2025-08-19'}, hash='ae4a27ca76a7bd09c2c2367d868406fb3d67414232bbc4639ab15af88d01c566')}, metadata_template='{key}: {value}', metadata_separator='\\n', text='# Table 2\\r\\n**Source:** 1706.03762v7\\r\\n**Page:** 10\\r\\n**Table Index:** 0\\r\\n\\r\\n| Parser | Training | WSJ 23 F1 |\\r\\n|---|---|---|\\r\\n| Vinyals & Kaiser el al. (2014) [37]\\r\\nPetrov et al. (2006) [29]\\r\\nZhu et al. (2013) [40]\\r\\nDyer et al. (2016) [8] | WSJ only, discriminative\\r\\nWSJ only, discriminative\\r\\nWSJ only, discriminative\\r\\nWSJ only, discriminative | 88.3\\r\\n90.4\\r\\n90.4\\r\\n91.7 |\\r\\n| Transformer (4 layers) | WSJ only, discriminative | 91.3 |\\r\\n| Zhu et al. (2013) [40]\\r\\nHuang & Harper (2009) [14]\\r\\nMcClosky et al. (2006) [26]\\r\\nVinyals & Kaiser el al. (2014) [37] | semi-supervised\\r\\nsemi-supervised\\r\\nsemi-supervised\\r\\nsemi-supervised | 91.3\\r\\n91.3\\r\\n92.1\\r\\n92.1 |\\r\\n| Transformer (4 layers) | semi-supervised | 92.7 |\\r\\n| Luong et al. (2015) [23]\\r\\nDyer et al. (2016) [8] | multi-task\\r\\ngenerative | 93.0\\r\\n93.3 |', mimetype='text/plain', start_char_idx=0, end_char_idx=790, metadata_seperator='\\n', text_template='{metadata_str}\\n\\n{content}'), score=0.7447378817738546)], 'image_nodes': [NodeWithScore(node=ImageNode(id_='76052f6c-227a-4663-90ea-1c788f483eac', embedding=None, metadata={'file_path': 'f:\\\\MachineLearning\\\\RAG\\\\Multimodal_Agentic_RAG\\\\extracted\\\\images\\\\images_p4_img0.png', 'file_name': 'images_p4_img0.png', 'file_type': 'image/png', 'file_size': 19215, 'creation_date': '2025-08-19', 'last_modified_date': '2025-08-19'}, excluded_embed_metadata_keys=['file_name', 'file_type', 'file_size', 'creation_date', 'last_modified_date', 'last_accessed_date'], excluded_llm_metadata_keys=['file_name', 'file_type', 'file_size', 'creation_date', 'last_modified_date', 'last_accessed_date'], relationships={<NodeRelationship.SOURCE: '1'>: RelatedNodeInfo(node_id='54949307-1cc6-4a5f-abc2-a5b0609866f4', node_type='4', metadata={'file_path': 'f:\\\\MachineLearning\\\\RAG\\\\Multimodal_Agentic_RAG\\\\extracted\\\\images\\\\images_p4_img0.png', 'file_name': 'images_p4_img0.png', 'file_type': 'image/png', 'file_size': 19215, 'creation_date': '2025-08-19', 'last_modified_date': '2025-08-19'}, hash='63c8574e1eaf1b2b67178413c22eee74c259c48ddbe5877b7c455c0dca871fc8')}, metadata_template='{key}: {value}', metadata_separator='\\n', text='', mimetype='text/plain', start_char_idx=0, end_char_idx=0, metadata_seperator='\\n', text_template='{metadata_str}\\n\\n{content}', image=None, image_path='f:\\\\MachineLearning\\\\RAG\\\\Multimodal_Agentic_RAG\\\\extracted\\\\images\\\\images_p4_img0.png', image_url=None, image_mimetype='image/png', text_embedding=None), score=0.226969677132143), NodeWithScore(node=ImageNode(id_='89db02ae-531b-4fa7-9fd9-47b4ed421896', embedding=None, metadata={'file_path': 'f:\\\\MachineLearning\\\\RAG\\\\Multimodal_Agentic_RAG\\\\extracted\\\\images\\\\images_p3_img0.png', 'file_name': 'images_p3_img0.png', 'file_type': 'image/png', 'file_size': 121244, 'creation_date': '2025-08-19', 'last_modified_date': '2025-08-19'}, excluded_embed_metadata_keys=['file_name', 'file_type', 'file_size', 'creation_date', 'last_modified_date', 'last_accessed_date'], excluded_llm_metadata_keys=['file_name', 'file_type', 'file_size', 'creation_date', 'last_modified_date', 'last_accessed_date'], relationships={<NodeRelationship.SOURCE: '1'>: RelatedNodeInfo(node_id='99b954e2-0e8e-4c88-9db2-aebccb1b9983', node_type='4', metadata={'file_path': 'f:\\\\MachineLearning\\\\RAG\\\\Multimodal_Agentic_RAG\\\\extracted\\\\images\\\\images_p3_img0.png', 'file_name': 'images_p3_img0.png', 'file_type': 'image/png', 'file_size': 121244, 'creation_date': '2025-08-19', 'last_modified_date': '2025-08-19'}, hash='cc4087d498a7802fb1dea7f90b34a7ad2cff0207c3584cc8de6d5684fc7d5f2e')}, metadata_template='{key}: {value}', metadata_separator='\\n', text='', mimetype='text/plain', start_char_idx=0, end_char_idx=0, metadata_seperator='\\n', text_template='{metadata_str}\\n\\n{content}', image=None, image_path='f:\\\\MachineLearning\\\\RAG\\\\Multimodal_Agentic_RAG\\\\extracted\\\\images\\\\images_p3_img0.png', image_url=None, image_mimetype='image/png', text_embedding=None), score=0.2247094920781066)]})"
      ]
     },
     "execution_count": 148,
     "metadata": {},
     "output_type": "execute_result"
    }
   ],
   "source": [
    "response"
   ]
  },
  {
   "cell_type": "code",
   "execution_count": 149,
   "id": "9f8465c2",
   "metadata": {},
   "outputs": [
    {
     "name": "stdout",
     "output_type": "stream",
     "text": [
      "The figures provided in the paper are diagrams related to the Transformer model architecture:\n",
      "\n",
      "1. **First Figure**: This diagram illustrates the scaled dot-product attention mechanism. It shows the process of calculating attention scores using queries (Q), keys (K), and values (V). The steps include matrix multiplication, scaling, optional masking, applying the softmax function, and a final matrix multiplication.\n",
      "\n",
      "2. **Second Figure**: This diagram represents the overall architecture of the Transformer model. It includes the encoder and decoder stacks, each with multiple layers (denoted as Nx). The encoder consists of multi-head attention and feed-forward layers with add and norm operations. The decoder includes masked multi-head attention, multi-head attention, and feed-forward layers, also with add and norm operations. Positional encoding is added to the input and output embeddings.\n",
      "\n",
      "These figures are essential for understanding how the Transformer processes input data and generates output, highlighting key components like attention mechanisms and layer structures.\n"
     ]
    }
   ],
   "source": [
    "print(str(response))"
   ]
  },
  {
   "cell_type": "code",
   "execution_count": 150,
   "id": "7085da68",
   "metadata": {},
   "outputs": [
    {
     "name": "stderr",
     "output_type": "stream",
     "text": [
      "INFO:httpx:HTTP Request: POST https://api.openai.com/v1/embeddings \"HTTP/1.1 200 OK\"\n",
      "INFO:httpx:HTTP Request: POST https://api.openai.com/v1/chat/completions \"HTTP/1.1 200 OK\"\n"
     ]
    }
   ],
   "source": [
    "query_str = \"Explain figure 1 of the paper \"\n",
    "response = query_engine.query(query_str)"
   ]
  },
  {
   "cell_type": "code",
   "execution_count": 153,
   "id": "f74b66ff",
   "metadata": {},
   "outputs": [
    {
     "data": {
      "text/plain": [
       "Response(response=\"Figure 1 illustrates the architecture of the Transformer model, which consists of an encoder and a decoder. \\n\\n### Encoder:\\n- **Input Embedding**: Converts input tokens into vectors.\\n- **Positional Encoding**: Adds positional information to the embeddings.\\n- **Multi-Head Attention**: Allows the model to focus on different parts of the input sequence.\\n- **Add & Norm**: Applies residual connections followed by layer normalization.\\n- **Feed Forward**: A fully connected feed-forward network applied to each position.\\n- The encoder stack is repeated \\\\(N\\\\) times.\\n\\n### Decoder:\\n- **Output Embedding**: Converts output tokens into vectors.\\n- **Positional Encoding**: Adds positional information to the embeddings.\\n- **Masked Multi-Head Attention**: Prevents attending to future tokens in the sequence.\\n- **Multi-Head Attention**: Attends to the encoder's output.\\n- **Add & Norm**: Similar to the encoder, applies residual connections and normalization.\\n- **Feed Forward**: A fully connected network similar to the encoder.\\n- The decoder stack is repeated \\\\(N\\\\) times.\\n\\n### Output:\\n- **Linear & Softmax**: Converts the decoder output into probabilities over the vocabulary.\\n\\nThe second figure details the **Scaled Dot-Product Attention** mechanism, which includes:\\n- **MatMul**: Computes attention scores using queries (Q) and keys (K).\\n- **Scale**: Scales the scores.\\n- **Mask (optional)**:\", source_nodes=[NodeWithScore(node=TextNode(id_='f5114728-3e69-463d-a530-2f61861031bf', embedding=None, metadata={'file_path': 'f:\\\\MachineLearning\\\\RAG\\\\Multimodal_Agentic_RAG\\\\extracted\\\\texts\\\\texts.md', 'file_name': 'texts.md', 'file_size': 41105, 'creation_date': '2025-08-19', 'last_modified_date': '2025-08-19'}, excluded_embed_metadata_keys=['file_name', 'file_type', 'file_size', 'creation_date', 'last_modified_date', 'last_accessed_date'], excluded_llm_metadata_keys=['file_name', 'file_type', 'file_size', 'creation_date', 'last_modified_date', 'last_accessed_date'], relationships={<NodeRelationship.SOURCE: '1'>: RelatedNodeInfo(node_id='4a735821-a419-4936-8bc2-744434e0529b', node_type='4', metadata={'file_path': 'f:\\\\MachineLearning\\\\RAG\\\\Multimodal_Agentic_RAG\\\\extracted\\\\texts\\\\texts.md', 'file_name': 'texts.md', 'file_size': 41105, 'creation_date': '2025-08-19', 'last_modified_date': '2025-08-19'}, hash='2add794a045ceb66c12360132f8391aa6e36cbabcf2b457b2a518930b2a26024'), <NodeRelationship.PREVIOUS: '2'>: RelatedNodeInfo(node_id='b87e4381-1d59-4474-a6d1-bc44dda4d4e8', node_type='1', metadata={'file_path': 'f:\\\\MachineLearning\\\\RAG\\\\Multimodal_Agentic_RAG\\\\extracted\\\\texts\\\\texts.md', 'file_name': 'texts.md', 'file_size': 41105, 'creation_date': '2025-08-19', 'last_modified_date': '2025-08-19'}, hash='865f4e6c3624512580759a1b2b01f7d569555fa137381b637cc57fac240ea21e'), <NodeRelationship.NEXT: '3'>: RelatedNodeInfo(node_id='5fb081bd-24ba-49d9-a593-7365999093ea', node_type='1', metadata={}, hash='3f4a6465576b5077ef970ebd158744cccaf3eacd909f447dec97201dc957f1de')}, metadata_template='{key}: {value}', metadata_separator='\\n', text='arXiv preprint\\r\\narXiv:1308.0850, 2013.\\r\\n[11] Kaiming He, Xiangyu Zhang, Shaoqing Ren, and Jian Sun. Deep residual learning for im-\\r\\nage recognition. In Proceedings of the IEEE Conference on Computer Vision and Pattern\\r\\nRecognition, pages 770–778, 2016.\\r\\n[12] Sepp Hochreiter, Yoshua Bengio, Paolo Frasconi, and Jürgen Schmidhuber. Gradient flow in\\r\\nrecurrent nets: the difficulty of learning long-term dependencies, 2001.\\r\\n[13] Sepp Hochreiter and Jürgen Schmidhuber. Long short-term memory. Neural computation,\\r\\n9(8):1735–1780, 1997.\\r\\n[14] Zhongqiang Huang and Mary Harper. Self-training PCFG grammars with latent annotations\\r\\nacross languages. In Proceedings of the 2009 Conference on Empirical Methods in Natural\\r\\nLanguage Processing, pages 832–841. ACL, August 2009.\\r\\n[15] Rafal Jozefowicz, Oriol Vinyals, Mike Schuster, Noam Shazeer, and Yonghui Wu. Exploring\\r\\nthe limits of language modeling. arXiv preprint arXiv:1602.02410, 2016.\\r\\n[16] Łukasz Kaiser and Samy Bengio. Can active memory replace attention? In Advances in Neural\\r\\nInformation Processing Systems, (NIPS), 2016.\\r\\n[17] Łukasz Kaiser and Ilya Sutskever. Neural GPUs learn algorithms. In International Conference\\r\\non Learning Representations (ICLR), 2016.\\r\\n[18] Nal Kalchbrenner, Lasse Espeholt, Karen Simonyan, Aaron van den Oord, Alex Graves, and Ko-\\r\\nray Kavukcuoglu. Neural machine translation in linear time. arXiv preprint arXiv:1610.10099v2,\\r\\n2017.\\r\\n[19] Yoon Kim, Carl Denton, Luong Hoang, and Alexander M. Rush. Structured attention networks.\\r\\nIn International Conference on Learning Representations, 2017.\\r\\n[20] Diederik Kingma and Jimmy Ba. Adam: A method for stochastic optimization. In ICLR, 2015.\\r\\n[21] Oleksii Kuchaiev and Boris Ginsburg. Factorization tricks for LSTM networks. arXiv preprint\\r\\narXiv:1703.10722, 2017.\\r\\n[22] Zhouhan Lin, Minwei Feng, Cicero Nogueira dos Santos, Mo Yu, Bing Xiang, Bowen\\r\\nZhou, and Yoshua Bengio. A structured self-attentive sentence embedding. arXiv preprint\\r\\narXiv:1703.03130, 2017.\\r\\n[23] Minh-Thang Luong, Quoc V. Le, Ilya Sutskever, Oriol Vinyals, and Lukasz Kaiser. Multi-task\\r\\nsequence to sequence learning. arXiv preprint arXiv:1511.06114, 2015.\\r\\n[24] Minh-Thang Luong, Hieu Pham, and Christopher D Manning. Effective approaches to attention-\\r\\nbased neural machine translation. arXiv preprint arXiv:1508.04025, 2015.\\r\\n11\\r\\n\\r\\n\\r\\n---\\r\\n\\r\\n## Page 12\\r\\n\\r\\n[25] Mitchell P Marcus, Mary Ann Marcinkiewicz, and Beatrice Santorini. Building a large annotated\\r\\ncorpus of english: The penn treebank. Computational linguistics, 19(2):313–330, 1993.\\r\\n[26] David McClosky, Eugene Charniak, and Mark Johnson. Effective self-training for parsing. In\\r\\nProceedings of the Human Language Technology Conference of the NAACL, Main Conference,\\r\\npages 152–159. ACL, June 2006.\\r\\n[27] Ankur Parikh, Oscar Täckström, Dipanjan Das, and Jakob Uszkoreit. A decomposable attention\\r\\nmodel. In Empirical Methods in Natural Language Processing, 2016.\\r\\n[28] Romain Paulus, Caiming Xiong, and Richard Socher. A deep reinforced model for abstractive\\r\\nsummarization. arXiv preprint arXiv:1705.04304, 2017.\\r\\n[29] Slav Petrov, Leon Barrett, Romain Thibaux, and Dan Klein.', mimetype='text/plain', start_char_idx=32590, end_char_idx=35739, metadata_seperator='\\n', text_template='{metadata_str}\\n\\n{content}'), score=0.7845652676079917), NodeWithScore(node=ImageNode(id_='89db02ae-531b-4fa7-9fd9-47b4ed421896', embedding=None, metadata={'file_path': 'f:\\\\MachineLearning\\\\RAG\\\\Multimodal_Agentic_RAG\\\\extracted\\\\images\\\\images_p3_img0.png', 'file_name': 'images_p3_img0.png', 'file_type': 'image/png', 'file_size': 121244, 'creation_date': '2025-08-19', 'last_modified_date': '2025-08-19'}, excluded_embed_metadata_keys=['file_name', 'file_type', 'file_size', 'creation_date', 'last_modified_date', 'last_accessed_date'], excluded_llm_metadata_keys=['file_name', 'file_type', 'file_size', 'creation_date', 'last_modified_date', 'last_accessed_date'], relationships={<NodeRelationship.SOURCE: '1'>: RelatedNodeInfo(node_id='99b954e2-0e8e-4c88-9db2-aebccb1b9983', node_type='4', metadata={'file_path': 'f:\\\\MachineLearning\\\\RAG\\\\Multimodal_Agentic_RAG\\\\extracted\\\\images\\\\images_p3_img0.png', 'file_name': 'images_p3_img0.png', 'file_type': 'image/png', 'file_size': 121244, 'creation_date': '2025-08-19', 'last_modified_date': '2025-08-19'}, hash='cc4087d498a7802fb1dea7f90b34a7ad2cff0207c3584cc8de6d5684fc7d5f2e')}, metadata_template='{key}: {value}', metadata_separator='\\n', text='', mimetype='text/plain', start_char_idx=0, end_char_idx=0, metadata_seperator='\\n', text_template='{metadata_str}\\n\\n{content}', image=None, image_path='f:\\\\MachineLearning\\\\RAG\\\\Multimodal_Agentic_RAG\\\\extracted\\\\images\\\\images_p3_img0.png', image_url=None, image_mimetype='image/png', text_embedding=None), score=0.2371278768511391), NodeWithScore(node=ImageNode(id_='76052f6c-227a-4663-90ea-1c788f483eac', embedding=None, metadata={'file_path': 'f:\\\\MachineLearning\\\\RAG\\\\Multimodal_Agentic_RAG\\\\extracted\\\\images\\\\images_p4_img0.png', 'file_name': 'images_p4_img0.png', 'file_type': 'image/png', 'file_size': 19215, 'creation_date': '2025-08-19', 'last_modified_date': '2025-08-19'}, excluded_embed_metadata_keys=['file_name', 'file_type', 'file_size', 'creation_date', 'last_modified_date', 'last_accessed_date'], excluded_llm_metadata_keys=['file_name', 'file_type', 'file_size', 'creation_date', 'last_modified_date', 'last_accessed_date'], relationships={<NodeRelationship.SOURCE: '1'>: RelatedNodeInfo(node_id='54949307-1cc6-4a5f-abc2-a5b0609866f4', node_type='4', metadata={'file_path': 'f:\\\\MachineLearning\\\\RAG\\\\Multimodal_Agentic_RAG\\\\extracted\\\\images\\\\images_p4_img0.png', 'file_name': 'images_p4_img0.png', 'file_type': 'image/png', 'file_size': 19215, 'creation_date': '2025-08-19', 'last_modified_date': '2025-08-19'}, hash='63c8574e1eaf1b2b67178413c22eee74c259c48ddbe5877b7c455c0dca871fc8')}, metadata_template='{key}: {value}', metadata_separator='\\n', text='', mimetype='text/plain', start_char_idx=0, end_char_idx=0, metadata_seperator='\\n', text_template='{metadata_str}\\n\\n{content}', image=None, image_path='f:\\\\MachineLearning\\\\RAG\\\\Multimodal_Agentic_RAG\\\\extracted\\\\images\\\\images_p4_img0.png', image_url=None, image_mimetype='image/png', text_embedding=None), score=0.2330236867794962)], metadata={'text_nodes': [NodeWithScore(node=TextNode(id_='f5114728-3e69-463d-a530-2f61861031bf', embedding=None, metadata={'file_path': 'f:\\\\MachineLearning\\\\RAG\\\\Multimodal_Agentic_RAG\\\\extracted\\\\texts\\\\texts.md', 'file_name': 'texts.md', 'file_size': 41105, 'creation_date': '2025-08-19', 'last_modified_date': '2025-08-19'}, excluded_embed_metadata_keys=['file_name', 'file_type', 'file_size', 'creation_date', 'last_modified_date', 'last_accessed_date'], excluded_llm_metadata_keys=['file_name', 'file_type', 'file_size', 'creation_date', 'last_modified_date', 'last_accessed_date'], relationships={<NodeRelationship.SOURCE: '1'>: RelatedNodeInfo(node_id='4a735821-a419-4936-8bc2-744434e0529b', node_type='4', metadata={'file_path': 'f:\\\\MachineLearning\\\\RAG\\\\Multimodal_Agentic_RAG\\\\extracted\\\\texts\\\\texts.md', 'file_name': 'texts.md', 'file_size': 41105, 'creation_date': '2025-08-19', 'last_modified_date': '2025-08-19'}, hash='2add794a045ceb66c12360132f8391aa6e36cbabcf2b457b2a518930b2a26024'), <NodeRelationship.PREVIOUS: '2'>: RelatedNodeInfo(node_id='b87e4381-1d59-4474-a6d1-bc44dda4d4e8', node_type='1', metadata={'file_path': 'f:\\\\MachineLearning\\\\RAG\\\\Multimodal_Agentic_RAG\\\\extracted\\\\texts\\\\texts.md', 'file_name': 'texts.md', 'file_size': 41105, 'creation_date': '2025-08-19', 'last_modified_date': '2025-08-19'}, hash='865f4e6c3624512580759a1b2b01f7d569555fa137381b637cc57fac240ea21e'), <NodeRelationship.NEXT: '3'>: RelatedNodeInfo(node_id='5fb081bd-24ba-49d9-a593-7365999093ea', node_type='1', metadata={}, hash='3f4a6465576b5077ef970ebd158744cccaf3eacd909f447dec97201dc957f1de')}, metadata_template='{key}: {value}', metadata_separator='\\n', text='arXiv preprint\\r\\narXiv:1308.0850, 2013.\\r\\n[11] Kaiming He, Xiangyu Zhang, Shaoqing Ren, and Jian Sun. Deep residual learning for im-\\r\\nage recognition. In Proceedings of the IEEE Conference on Computer Vision and Pattern\\r\\nRecognition, pages 770–778, 2016.\\r\\n[12] Sepp Hochreiter, Yoshua Bengio, Paolo Frasconi, and Jürgen Schmidhuber. Gradient flow in\\r\\nrecurrent nets: the difficulty of learning long-term dependencies, 2001.\\r\\n[13] Sepp Hochreiter and Jürgen Schmidhuber. Long short-term memory. Neural computation,\\r\\n9(8):1735–1780, 1997.\\r\\n[14] Zhongqiang Huang and Mary Harper. Self-training PCFG grammars with latent annotations\\r\\nacross languages. In Proceedings of the 2009 Conference on Empirical Methods in Natural\\r\\nLanguage Processing, pages 832–841. ACL, August 2009.\\r\\n[15] Rafal Jozefowicz, Oriol Vinyals, Mike Schuster, Noam Shazeer, and Yonghui Wu. Exploring\\r\\nthe limits of language modeling. arXiv preprint arXiv:1602.02410, 2016.\\r\\n[16] Łukasz Kaiser and Samy Bengio. Can active memory replace attention? In Advances in Neural\\r\\nInformation Processing Systems, (NIPS), 2016.\\r\\n[17] Łukasz Kaiser and Ilya Sutskever. Neural GPUs learn algorithms. In International Conference\\r\\non Learning Representations (ICLR), 2016.\\r\\n[18] Nal Kalchbrenner, Lasse Espeholt, Karen Simonyan, Aaron van den Oord, Alex Graves, and Ko-\\r\\nray Kavukcuoglu. Neural machine translation in linear time. arXiv preprint arXiv:1610.10099v2,\\r\\n2017.\\r\\n[19] Yoon Kim, Carl Denton, Luong Hoang, and Alexander M. Rush. Structured attention networks.\\r\\nIn International Conference on Learning Representations, 2017.\\r\\n[20] Diederik Kingma and Jimmy Ba. Adam: A method for stochastic optimization. In ICLR, 2015.\\r\\n[21] Oleksii Kuchaiev and Boris Ginsburg. Factorization tricks for LSTM networks. arXiv preprint\\r\\narXiv:1703.10722, 2017.\\r\\n[22] Zhouhan Lin, Minwei Feng, Cicero Nogueira dos Santos, Mo Yu, Bing Xiang, Bowen\\r\\nZhou, and Yoshua Bengio. A structured self-attentive sentence embedding. arXiv preprint\\r\\narXiv:1703.03130, 2017.\\r\\n[23] Minh-Thang Luong, Quoc V. Le, Ilya Sutskever, Oriol Vinyals, and Lukasz Kaiser. Multi-task\\r\\nsequence to sequence learning. arXiv preprint arXiv:1511.06114, 2015.\\r\\n[24] Minh-Thang Luong, Hieu Pham, and Christopher D Manning. Effective approaches to attention-\\r\\nbased neural machine translation. arXiv preprint arXiv:1508.04025, 2015.\\r\\n11\\r\\n\\r\\n\\r\\n---\\r\\n\\r\\n## Page 12\\r\\n\\r\\n[25] Mitchell P Marcus, Mary Ann Marcinkiewicz, and Beatrice Santorini. Building a large annotated\\r\\ncorpus of english: The penn treebank. Computational linguistics, 19(2):313–330, 1993.\\r\\n[26] David McClosky, Eugene Charniak, and Mark Johnson. Effective self-training for parsing. In\\r\\nProceedings of the Human Language Technology Conference of the NAACL, Main Conference,\\r\\npages 152–159. ACL, June 2006.\\r\\n[27] Ankur Parikh, Oscar Täckström, Dipanjan Das, and Jakob Uszkoreit. A decomposable attention\\r\\nmodel. In Empirical Methods in Natural Language Processing, 2016.\\r\\n[28] Romain Paulus, Caiming Xiong, and Richard Socher. A deep reinforced model for abstractive\\r\\nsummarization. arXiv preprint arXiv:1705.04304, 2017.\\r\\n[29] Slav Petrov, Leon Barrett, Romain Thibaux, and Dan Klein.', mimetype='text/plain', start_char_idx=32590, end_char_idx=35739, metadata_seperator='\\n', text_template='{metadata_str}\\n\\n{content}'), score=0.7845652676079917)], 'image_nodes': [NodeWithScore(node=ImageNode(id_='89db02ae-531b-4fa7-9fd9-47b4ed421896', embedding=None, metadata={'file_path': 'f:\\\\MachineLearning\\\\RAG\\\\Multimodal_Agentic_RAG\\\\extracted\\\\images\\\\images_p3_img0.png', 'file_name': 'images_p3_img0.png', 'file_type': 'image/png', 'file_size': 121244, 'creation_date': '2025-08-19', 'last_modified_date': '2025-08-19'}, excluded_embed_metadata_keys=['file_name', 'file_type', 'file_size', 'creation_date', 'last_modified_date', 'last_accessed_date'], excluded_llm_metadata_keys=['file_name', 'file_type', 'file_size', 'creation_date', 'last_modified_date', 'last_accessed_date'], relationships={<NodeRelationship.SOURCE: '1'>: RelatedNodeInfo(node_id='99b954e2-0e8e-4c88-9db2-aebccb1b9983', node_type='4', metadata={'file_path': 'f:\\\\MachineLearning\\\\RAG\\\\Multimodal_Agentic_RAG\\\\extracted\\\\images\\\\images_p3_img0.png', 'file_name': 'images_p3_img0.png', 'file_type': 'image/png', 'file_size': 121244, 'creation_date': '2025-08-19', 'last_modified_date': '2025-08-19'}, hash='cc4087d498a7802fb1dea7f90b34a7ad2cff0207c3584cc8de6d5684fc7d5f2e')}, metadata_template='{key}: {value}', metadata_separator='\\n', text='', mimetype='text/plain', start_char_idx=0, end_char_idx=0, metadata_seperator='\\n', text_template='{metadata_str}\\n\\n{content}', image=None, image_path='f:\\\\MachineLearning\\\\RAG\\\\Multimodal_Agentic_RAG\\\\extracted\\\\images\\\\images_p3_img0.png', image_url=None, image_mimetype='image/png', text_embedding=None), score=0.2371278768511391), NodeWithScore(node=ImageNode(id_='76052f6c-227a-4663-90ea-1c788f483eac', embedding=None, metadata={'file_path': 'f:\\\\MachineLearning\\\\RAG\\\\Multimodal_Agentic_RAG\\\\extracted\\\\images\\\\images_p4_img0.png', 'file_name': 'images_p4_img0.png', 'file_type': 'image/png', 'file_size': 19215, 'creation_date': '2025-08-19', 'last_modified_date': '2025-08-19'}, excluded_embed_metadata_keys=['file_name', 'file_type', 'file_size', 'creation_date', 'last_modified_date', 'last_accessed_date'], excluded_llm_metadata_keys=['file_name', 'file_type', 'file_size', 'creation_date', 'last_modified_date', 'last_accessed_date'], relationships={<NodeRelationship.SOURCE: '1'>: RelatedNodeInfo(node_id='54949307-1cc6-4a5f-abc2-a5b0609866f4', node_type='4', metadata={'file_path': 'f:\\\\MachineLearning\\\\RAG\\\\Multimodal_Agentic_RAG\\\\extracted\\\\images\\\\images_p4_img0.png', 'file_name': 'images_p4_img0.png', 'file_type': 'image/png', 'file_size': 19215, 'creation_date': '2025-08-19', 'last_modified_date': '2025-08-19'}, hash='63c8574e1eaf1b2b67178413c22eee74c259c48ddbe5877b7c455c0dca871fc8')}, metadata_template='{key}: {value}', metadata_separator='\\n', text='', mimetype='text/plain', start_char_idx=0, end_char_idx=0, metadata_seperator='\\n', text_template='{metadata_str}\\n\\n{content}', image=None, image_path='f:\\\\MachineLearning\\\\RAG\\\\Multimodal_Agentic_RAG\\\\extracted\\\\images\\\\images_p4_img0.png', image_url=None, image_mimetype='image/png', text_embedding=None), score=0.2330236867794962)]})"
      ]
     },
     "execution_count": 153,
     "metadata": {},
     "output_type": "execute_result"
    }
   ],
   "source": [
    "response"
   ]
  },
  {
   "cell_type": "code",
   "execution_count": 156,
   "id": "b6050e79",
   "metadata": {},
   "outputs": [],
   "source": [
    "from PIL import Image\n",
    "import matplotlib.pyplot as plt\n",
    "import os\n",
    "\n",
    "image_paths = []\n",
    "for img_path in os.listdir(\"./extracted/images\"):\n",
    "    image_paths.append(str(os.path.join(\"./input_images\", img_path)))\n"
   ]
  },
  {
   "cell_type": "code",
   "execution_count": 157,
   "id": "81f04002",
   "metadata": {},
   "outputs": [
    {
     "data": {
      "text/plain": [
       "<Figure size 1600x900 with 0 Axes>"
      ]
     },
     "metadata": {},
     "output_type": "display_data"
    }
   ],
   "source": [
    "def plot_images(image_paths):\n",
    "    images_shown = 0\n",
    "    plt.figure(figsize=(16, 9))\n",
    "    for img_path in image_paths:\n",
    "        if os.path.isfile(img_path):\n",
    "            image = Image.open(img_path)\n",
    "\n",
    "            plt.subplot(2, 3, images_shown + 1)\n",
    "            plt.imshow(image)\n",
    "            plt.xticks([])\n",
    "            plt.yticks([])\n",
    "\n",
    "            images_shown += 1\n",
    "            if images_shown >= 9:\n",
    "                break\n",
    "\n",
    "\n",
    "plot_images(image_paths)"
   ]
  },
  {
   "cell_type": "code",
   "execution_count": 158,
   "id": "9e580d7e",
   "metadata": {},
   "outputs": [
    {
     "data": {
      "text/markdown": [
       "**Node ID:** f5114728-3e69-463d-a530-2f61861031bf<br>**Similarity:** 0.7845652676079917<br>**Text:** arXiv preprint\r\n",
       "arXiv:1308.0850, 2013.\r\n",
       "[11] Kaiming He, Xiangyu Zhang, Shaoqing Ren, and Jian Sun. Deep residual learning for im-\r\n",
       "age recognition. In Proceedings of the IEEE Conference on Compute...<br>"
      ],
      "text/plain": [
       "<IPython.core.display.Markdown object>"
      ]
     },
     "metadata": {},
     "output_type": "display_data"
    },
    {
     "data": {
      "image/png": "[encoded data removed]",
      "text/plain": [
       "<Figure size 1600x900 with 2 Axes>"
      ]
     },
     "metadata": {},
     "output_type": "display_data"
    }
   ],
   "source": [
    "from llama_index.core.response.notebook_utils import display_source_node\n",
    "\n",
    "for text_node in response.metadata[\"text_nodes\"]:\n",
    "    display_source_node(text_node, source_length=200)\n",
    "plot_images(\n",
    "    [n.metadata[\"file_path\"] for n in response.metadata[\"image_nodes\"]]\n",
    ")"
   ]
  },
  {
   "cell_type": "code",
   "execution_count": 152,
   "id": "645d26ec",
   "metadata": {},
   "outputs": [
    {
     "name": "stdout",
     "output_type": "stream",
     "text": [
      "Figure 1 illustrates the architecture of the Transformer model, which consists of an encoder and a decoder. \n",
      "\n",
      "### Encoder:\n",
      "- **Input Embedding**: Converts input tokens into vectors.\n",
      "- **Positional Encoding**: Adds positional information to the embeddings.\n",
      "- **Multi-Head Attention**: Allows the model to focus on different parts of the input sequence.\n",
      "- **Add & Norm**: Applies residual connections followed by layer normalization.\n",
      "- **Feed Forward**: A fully connected feed-forward network applied to each position.\n",
      "- The encoder stack is repeated \\(N\\) times.\n",
      "\n",
      "### Decoder:\n",
      "- **Output Embedding**: Converts output tokens into vectors.\n",
      "- **Positional Encoding**: Adds positional information to the embeddings.\n",
      "- **Masked Multi-Head Attention**: Prevents attending to future tokens in the sequence.\n",
      "- **Multi-Head Attention**: Attends to the encoder's output.\n",
      "- **Add & Norm**: Similar to the encoder, applies residual connections and normalization.\n",
      "- **Feed Forward**: A fully connected network similar to the encoder.\n",
      "- The decoder stack is repeated \\(N\\) times.\n",
      "\n",
      "### Output:\n",
      "- **Linear & Softmax**: Converts the decoder output into probabilities over the vocabulary.\n",
      "\n",
      "The second figure details the **Scaled Dot-Product Attention** mechanism, which includes:\n",
      "- **MatMul**: Computes attention scores using queries (Q) and keys (K).\n",
      "- **Scale**: Scales the scores.\n",
      "- **Mask (optional)**:\n"
     ]
    }
   ],
   "source": [
    "print(str(response))"
   ]
  },
  {
   "cell_type": "code",
   "execution_count": null,
   "id": "6aa66f47",
   "metadata": {},
   "outputs": [],
   "source": []
  }
 ],
 "metadata": {
  "kernelspec": {
   "display_name": "gpu_env",
   "language": "python",
   "name": "python3"
  },
  "language_info": {
   "codemirror_mode": {
    "name": "ipython",
    "version": 3
   },
   "file_extension": ".py",
   "mimetype": "text/x-python",
   "name": "python",
   "nbconvert_exporter": "python",
   "pygments_lexer": "ipython3",
   "version": "3.12.0"
  }
 },
 "nbformat": 4,
 "nbformat_minor": 5
}
